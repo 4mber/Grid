{
 "cells": [
  {
   "cell_type": "code",
   "execution_count": 1,
   "metadata": {},
   "outputs": [
    {
     "name": "stderr",
     "output_type": "stream",
     "text": [
      "Using TensorFlow backend.\n"
     ]
    },
    {
     "name": "stdout",
     "output_type": "stream",
     "text": [
      "\n",
      "\u001b[34mUPDATE: \u001b[0mConnecting to IPFS... this can take a few seconds...\n",
      "\n",
      "\u001b[32mSUCCESS: \u001b[0mConnected!!!\n",
      "SUBSCRIBING TO openmined:list_workers\n",
      "\n",
      "\u001b[34mUPDATE: \u001b[0mQuerying known workers...\n",
      "\tWORKER: /p2p-circuit/ipfs/QmQabt3SWuDvjse9z7GAcH2BGQv4wH8bumkd4x5oXN2obX...\u001b[31mFAIL!!!\u001b[0m\n",
      "\tWORKER: /p2p-circuit/ipfs/Qmaosc64H6Y29VFCFYJzJXCX9AuRp7RCsekLmajHNVEARD...\u001b[32mSUCCESS!!!\u001b[0m\n",
      "SUBSCRIBING TO openmined:list_workers:QmcNmXWvYSM1JVi4DZy3FVLAxApXbadTw4GHzrDcL2rjE4\n",
      "\n",
      "Failed to reconnect in the opposite direciton to:/p2p-circuit/ipfs/QmcNmXWvYSM1JVi4DZy3FVLAxApXbadTw4GHzrDcL2rjE4\n",
      "\u001b[34mUPDATE: \u001b[0mSearching for IPFS nodes - 25 found overall - 2 are OpenMined workers          \n",
      "\n",
      "\u001b[32mSUCCESS: \u001b[0mFound 2 OpenMined nodes!!!\n",
      "\n",
      "making request to https://www.coinbase.com/oauth/authorize?client_id=61638403d5bee9d1479b81788e5c81956d6c93af8dd078ef7d012716409bead5&redirect_uri=https%3A%2F%2Fopengrid.ai%2Fcallback&response_type=code&scope=wallet%3Atransactions%3Asend%2Cwallet%3Aaccounts%3Aread&state=11cf2610-3a93-4403-8d97-f7c5e3a80945&account_currency=ETH&meta%5Bsend_limit_amount%5D=1&meta%5Bsend_limit_currency%5D=USD&meta%5Bsend_limit_period%5D=day\n"
     ]
    },
    {
     "name": "stderr",
     "output_type": "stream",
     "text": [
      "Task was destroyed but it is pending!\n",
      "task: <Task pending coro=<get_auth_token() running at /Users/bendecoste/anaconda3/lib/python3.6/site-packages/grid-0.1.0-py3.6.egg/grid/grid_payment/websockets.py:38> wait_for=<Future finished result=None>>\n"
     ]
    },
    {
     "name": "stdout",
     "output_type": "stream",
     "text": [
      "got a message??? {\"accessToken\":\"79a5b1c5ee7c210aff80ee42db20e44be69251e6827153e56368d6545c738277\",\"refreshToken\":\"ea1d69e0ae551b1511fec5bbe923af3931c3c8c6c7d28b23598e96eadc43901c\"}\n",
      "future result: <Future finished result='{\"accessToke...6eadc43901c\"}'>\n"
     ]
    }
   ],
   "source": [
    "import numpy as np\n",
    "import keras, grid\n",
    "from keras.models import Sequential\n",
    "from keras.layers.core import Dense, Dropout, Activation\n",
    "from keras.optimizers import SGD\n",
    "from grid.clients.keras import KerasClient\n",
    "import grid.lib.coinbase_helper as helper\n",
    "import grid.grid_payment.grid_payment as grid_payment\n",
    "\n",
    "g = KerasClient()\n",
    "gp = grid_payment.GridPayment()\n",
    "\n",
    "tokens = gp.authorize()\n",
    "\n",
    "# do some training\n",
    "\n",
    "#gp.send_ether(access_token, refresh_token, email, amount)"
   ]
  },
  {
   "cell_type": "code",
   "execution_count": 1,
   "metadata": {},
   "outputs": [
    {
     "name": "stdout",
     "output_type": "stream",
     "text": [
      "woot <websockets.client.WebSocketClientProtocol object at 0x112222978>\n"
     ]
    }
   ],
   "source": [
    "import websockets\n",
    "import asyncio\n",
    "\n",
    "async def omg ():\n",
    "    async with websockets.connect('ws://opengrid.ai') as ws:\n",
    "        print(f'woot {ws}')\n",
    "        \n",
    "loop = asyncio.get_event_loop()\n",
    "loop.run_until_complete(omg())\n",
    "# loop.close()"
   ]
  },
  {
   "cell_type": "code",
   "execution_count": null,
   "metadata": {},
   "outputs": [],
   "source": []
  }
 ],
 "metadata": {
  "kernelspec": {
   "display_name": "Python 3",
   "language": "python",
   "name": "python3"
  },
  "language_info": {
   "codemirror_mode": {
    "name": "ipython",
    "version": 3
   },
   "file_extension": ".py",
   "mimetype": "text/x-python",
   "name": "python",
   "nbconvert_exporter": "python",
   "pygments_lexer": "ipython3",
   "version": "3.6.3"
  }
 },
 "nbformat": 4,
 "nbformat_minor": 2
}
