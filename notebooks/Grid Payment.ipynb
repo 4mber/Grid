{
 "cells": [
  {
   "cell_type": "code",
   "execution_count": 1,
   "metadata": {},
   "outputs": [
    {
     "name": "stdout",
     "output_type": "stream",
     "text": [
      "making request to https://www.coinbase.com/oauth/authorize?client_id=61638403d5bee9d1479b81788e5c81956d6c93af8dd078ef7d012716409bead5&redirect_uri=https%3A%2F%2Fopengrid.ai%2Fcallback&response_type=code&scope=wallet%3Atransactions%3Asend%2Cwallet%3Aaccounts%3Aread&state=0422c19d-8798-4062-bc9d-eaff7a11f6db&account_currency=ETH&meta%5Bsend_limit_amount%5D=1&meta%5Bsend_limit_currency%5D=USD&meta%5Bsend_limit_period%5D=day\n"
     ]
    }
   ],
   "source": [
    "import numpy as np\n",
    "import keras, grid\n",
    "from keras.models import Sequential\n",
    "from keras.layers.core import Dense, Dropout, Activation\n",
    "from keras.optimizers import SGD\n",
    "from grid.clients.keras import KerasClient\n",
    "import grid.lib.coinbase_helper as helper\n",
    "import grid.grid_payment.grid_payment as grid_payment\n",
    "\n",
    "#g = KerasClient()\n",
    "gp = grid_payment.GridPayment()\n",
    "\n",
    "tokens = gp.authorize()\n",
    "\n",
    "# do some training\n",
    "\n",
    "email = \"bendecoste@gmail.com\"\n",
    "amount = 0.000001\n",
    "access_token = tokens[\"accessToken\"]\n",
    "refresh_token = tokens[\"refreshToken\"]\n",
    "\n",
    "gp.send_ether(\"62ddb2e97b3693a67fe90e4328082f23b4a7aeb8f0e03824c13cb4077964e938\", \"\", email, amount)"
   ]
  },
  {
   "cell_type": "code",
   "execution_count": 1,
   "metadata": {},
   "outputs": [
    {
     "name": "stdout",
     "output_type": "stream",
     "text": [
      "woot <websockets.client.WebSocketClientProtocol object at 0x112222978>\n"
     ]
    }
   ],
   "source": [
    "import websockets\n",
    "import asyncio\n",
    "\n",
    "async def omg ():\n",
    "    async with websockets.connect('ws://opengrid.ai') as ws:\n",
    "        print(f'woot {ws}')\n",
    "        \n",
    "loop = asyncio.get_event_loop()\n",
    "loop.run_until_complete(omg())\n",
    "# loop.close()"
   ]
  },
  {
   "cell_type": "code",
   "execution_count": null,
   "metadata": {},
   "outputs": [],
   "source": []
  }
 ],
 "metadata": {
  "kernelspec": {
   "display_name": "Python 3",
   "language": "python",
   "name": "python3"
  },
  "language_info": {
   "codemirror_mode": {
    "name": "ipython",
    "version": 3
   },
   "file_extension": ".py",
   "mimetype": "text/x-python",
   "name": "python",
   "nbconvert_exporter": "python",
   "pygments_lexer": "ipython3",
   "version": "3.6.3"
  }
 },
 "nbformat": 4,
 "nbformat_minor": 2
}
