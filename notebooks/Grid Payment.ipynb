{
 "cells": [
  {
   "cell_type": "code",
   "execution_count": null,
   "metadata": {},
   "outputs": [],
   "source": [
    "import numpy as np\n",
    "import keras, grid\n",
    "from keras.models import Sequential\n",
    "from keras.layers.core import Dense, Dropout, Activation\n",
    "from keras.optimizers import SGD\n",
    "from grid.clients.keras import KerasClient\n",
    "import grid.lib.coinbase_helper as helper\n",
    "import grid.grid_payment.grid_payment as grid_payment\n",
    "\n",
    "g = KerasClient()\n",
    "gp = grid_payment.GridPayment()\n",
    "\n",
    "tokens = gp.authorize()\n",
    "\n",
    "# do some training\n",
    "\n",
    "#gp.send_ether(access_token, refresh_token, email, amount)"
   ]
  },
  {
   "cell_type": "code",
   "execution_count": null,
   "metadata": {},
   "outputs": [],
   "source": []
  }
 ],
 "metadata": {
  "kernelspec": {
   "display_name": "Python 3",
   "language": "python",
   "name": "python3"
  },
  "language_info": {
   "codemirror_mode": {
    "name": "ipython",
    "version": 3
   },
   "file_extension": ".py",
   "mimetype": "text/x-python",
   "name": "python",
   "nbconvert_exporter": "python",
   "pygments_lexer": "ipython3",
   "version": "3.6.3"
  }
 },
 "nbformat": 4,
 "nbformat_minor": 2
}
