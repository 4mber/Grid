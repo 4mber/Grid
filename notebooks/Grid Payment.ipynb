{
 "cells": [
  {
   "cell_type": "code",
   "execution_count": null,
   "metadata": {},
   "outputs": [
    {
     "name": "stderr",
     "output_type": "stream",
     "text": [
      "Using TensorFlow backend.\n"
     ]
    },
    {
     "name": "stdout",
     "output_type": "stream",
     "text": [
      "\n",
      "\u001b[34mUPDATE: \u001b[0mConnecting to IPFS... this can take a few seconds...\n",
      "\n",
      "\u001b[32mSUCCESS: \u001b[0mConnected!!! - My ID: QmcNmXWvYSM1JVi4DZy3FVLAxApXbadTw4GHzrDcL2rjE4\n",
      "\n",
      "\u001b[34mUPDATE: \u001b[0mQuerying known workers...\n",
      "\tWORKER: /p2p-circuit/ipfs/QmQabt3SWuDvjse9z7GAcH2BGQv4wH8bumkd4x5oXN2obX..."
     ]
    }
   ],
   "source": [
    "import numpy as np\n",
    "import keras, grid\n",
    "from keras.models import Sequential\n",
    "from keras.layers.core import Dense, Dropout, Activation\n",
    "from keras.optimizers import SGD\n",
    "from grid.clients.keras import KerasClient\n",
    "import grid.lib.coinbase_helper as helper\n",
    "import grid.grid_payment.grid_payment as grid_payment\n",
    "\n",
    "g = KerasClient()\n",
    "gp = grid_payment.GridPayment()\n",
    "\n",
    "# tokens = gp.authorize()\n",
    "\n",
    "#gp.send_ether(access_token, refresh_token, email, amount)"
   ]
  },
  {
   "cell_type": "code",
   "execution_count": null,
   "metadata": {},
   "outputs": [],
   "source": [
    "g.show_compute_nodes()"
   ]
  },
  {
   "cell_type": "code",
   "execution_count": null,
   "metadata": {},
   "outputs": [
    {
     "name": "stdout",
     "output_type": "stream",
     "text": [
      "\n",
      "\u001b[34mUPDATE: \u001b[0mConnecting to IPFS... this can take a few seconds...\n",
      "\n",
      "\u001b[32mSUCCESS: \u001b[0mConnected!!! - My ID: QmcNmXWvYSM1JVi4DZy3FVLAxApXbadTw4GHzrDcL2rjE4\n",
      "\n",
      "\u001b[34mUPDATE: \u001b[0mQuerying known workers...\n",
      "\tWORKER: /p2p-circuit/ipfs/Qmaosc64H6Y29VFCFYJzJXCX9AuRp7RCsekLmajHNVEARD...\u001b[32mSUCCESS!!!\u001b[0m\n",
      "\tWORKER: /p2p-circuit/ipfs/QmQabt3SWuDvjse9z7GAcH2BGQv4wH8bumkd4x5oXN2obX...\u001b[31mFAIL!!!\u001b[0m\n",
      "\n",
      "\u001b[34mUPDATE: \u001b[0mSearching for IPFS nodes - 72 found overall - 3 are OpenMined workers          \n",
      "\n",
      "\u001b[32mSUCCESS: \u001b[0mFound 3 OpenMined nodes!!!\n",
      "\n",
      "PREFERRED NODE:jayjay\n",
      "\u001b[90m ANCHOR - 0 - ID:VEARD  Ping:0.13sec  CPUs:1  CPU Load:3.9  Disk-util:97.7%  RAM-util:0.79%  GPUs:[]\u001b[0m\n",
      "\u001b[90mNODE    - 1 - - timeout - - QmNxbPtZu1GkXcLE5hzvYkRrcf1kRvxX8cTEPErqAkBwbx\u001b[0m\n",
      "COMPUTE - 1 - NAME:jayjay  Ping:0.04sec  CPUs:1  CPU Load:0.4  Disk-util:97.3%  RAM-util:40.0%  GPUs:[]\n"
     ]
    }
   ],
   "source": [
    "input = np.array([[0,0],[0,1],[1,0],[1,1]])\n",
    "target = np.array([[0],[1],[1],[0]])\n",
    "\n",
    "model = Sequential()\n",
    "model.add(Dense(8, input_dim=2))\n",
    "model.add(Activation('tanh'))\n",
    "model.add(Dense(1))\n",
    "model.add(Activation('sigmoid'))\n",
    "\n",
    "sgd = SGD(lr=0.1)\n",
    "model.compile(loss='binary_crossentropy', optimizer=sgd)\n",
    "    \n",
    "model, train_spec = g.fit(model,input,target,epochs=20, log_interval=100, preferred_node='jayjay')"
   ]
  },
  {
   "cell_type": "code",
   "execution_count": 2,
   "metadata": {},
   "outputs": [
    {
     "name": "stdout",
     "output_type": "stream",
     "text": [
      "200\n"
     ]
    },
    {
     "data": {
      "text/plain": [
       "200"
      ]
     },
     "execution_count": 2,
     "metadata": {},
     "output_type": "execute_result"
    }
   ],
   "source": [
    "import grid.grid_payment.grid_payment as grid_payment\n",
    "\n",
    "#g = KerasClient()\n",
    "gp = grid_payment.GridPayment()\n",
    "gp.send_ether('justinpatriquin@gmail.com', 0.000001)"
   ]
  },
  {
   "cell_type": "code",
   "execution_count": 2,
   "metadata": {},
   "outputs": [
    {
     "name": "stdout",
     "output_type": "stream",
     "text": [
      "connected my dude <websockets.client.WebSocketClientProtocol object at 0x1051496a0>\n"
     ]
    }
   ],
   "source": [
    "import websockets\n",
    "import asyncio\n",
    "\n",
    "async def connect ():\n",
    "    async with websockets.connect('wss://opengrid.ai') as ws:\n",
    "        print(f'connected my dude {ws}')\n",
    "        ws.\n",
    "        \n",
    "loop = asyncio.get_event_loop()\n",
    "loop.run_until_complete(connect())"
   ]
  },
  {
   "cell_type": "code",
   "execution_count": 7,
   "metadata": {},
   "outputs": [],
   "source": [
    "import re\n",
    "preferred_node = 'jayjay'\n",
    "if(preferred_node == 'random'):\n",
    "    nodes = self.get_openmined_nodes()\n",
    "    preferred_node = nodes[random.randint(0,len(nodes)-1)]\n",
    "elif not re.match('[1-9A-HJ-NP-Za-km-z]{46}', preferred_node):\n",
    "    # preferred_node is an alias, switch to the id\n",
    "    for idx, node in enumerate(g.stats):\n",
    "        if 'name' in node.keys() and node['name'] == preferred_node:\n",
    "            preferred_node = node['id']"
   ]
  },
  {
   "cell_type": "code",
   "execution_count": 8,
   "metadata": {},
   "outputs": [
    {
     "data": {
      "text/plain": [
       "'Qme8SQLibzaAPQSS4GRFQCqAXqVPVknZeDLPqeePYYka8d'"
      ]
     },
     "execution_count": 8,
     "metadata": {},
     "output_type": "execute_result"
    }
   ],
   "source": [
    "preferred_node"
   ]
  },
  {
   "cell_type": "code",
   "execution_count": 10,
   "metadata": {},
   "outputs": [
    {
     "data": {
      "text/plain": [
       "[{'cpu_num_cores': 1,\n",
       "  'cpu_num_logical_cores': 1,\n",
       "  'cpu_processor_percent_utilization': 0.0,\n",
       "  'cpu_ram_active': 875945984,\n",
       "  'cpu_ram_available': 21016576,\n",
       "  'cpu_ram_free': 70332416,\n",
       "  'cpu_ram_inactive': 23445504,\n",
       "  'cpu_ram_percent_available': 98.0,\n",
       "  'cpu_ram_total': 1038888960,\n",
       "  'cpu_ram_used': 907538432,\n",
       "  'disk_free': 194813952,\n",
       "  'disk_percent': 97.6,\n",
       "  'disk_total': 8259014656,\n",
       "  'disk_used': 8047423488,\n",
       "  'gpus': [],\n",
       "  'gpus_pytorch': [],\n",
       "  'id': 'Qmaosc64H6Y29VFCFYJzJXCX9AuRp7RCsekLmajHNVEARD',\n",
       "  'ping_time': 0.05345630645751953,\n",
       "  'services_running': ['broadcast_known_workers',\n",
       "   'whoami_service',\n",
       "   'listen_for_openmined_nodes',\n",
       "   'passively_broadcast_membership'],\n",
       "  'status': 'ONLINE',\n",
       "  'worker_type': ' ANCHOR'},\n",
       " {'cpu_num_cores': 1,\n",
       "  'cpu_num_logical_cores': 1,\n",
       "  'cpu_processor_percent_utilization': 0.7,\n",
       "  'cpu_ram_active': 597823488,\n",
       "  'cpu_ram_available': 399425536,\n",
       "  'cpu_ram_free': 82325504,\n",
       "  'cpu_ram_inactive': 197148672,\n",
       "  'cpu_ram_percent_available': 61.6,\n",
       "  'cpu_ram_total': 1038901248,\n",
       "  'cpu_ram_used': 444280832,\n",
       "  'disk_free': 219058176,\n",
       "  'disk_percent': 97.3,\n",
       "  'disk_total': 8259014656,\n",
       "  'disk_used': 8023179264,\n",
       "  'email': 'justinpatriquin@gmail.com',\n",
       "  'gpus': [],\n",
       "  'gpus_pytorch': [],\n",
       "  'id': 'Qme8SQLibzaAPQSS4GRFQCqAXqVPVknZeDLPqeePYYka8d',\n",
       "  'name': 'jayjay',\n",
       "  'ping_time': 0.059999942779541016,\n",
       "  'services_running': ['broadcast_known_workers',\n",
       "   'whoami_service',\n",
       "   'listen_for_openmined_nodes',\n",
       "   'fit_worker_service',\n",
       "   'torch_service'],\n",
       "  'status': 'ONLINE',\n",
       "  'torch': {'objects': []},\n",
       "  'worker_type': 'COMPUTE'}]"
      ]
     },
     "execution_count": 10,
     "metadata": {},
     "output_type": "execute_result"
    }
   ],
   "source": [
    "g.stats"
   ]
  },
  {
   "cell_type": "code",
   "execution_count": null,
   "metadata": {},
   "outputs": [],
   "source": []
  }
 ],
 "metadata": {
  "kernelspec": {
   "display_name": "Python 3",
   "language": "python",
   "name": "python3"
  },
  "language_info": {
   "codemirror_mode": {
    "name": "ipython",
    "version": 3
   },
   "file_extension": ".py",
   "mimetype": "text/x-python",
   "name": "python",
   "nbconvert_exporter": "python",
   "pygments_lexer": "ipython3",
   "version": "3.6.3"
  }
 },
 "nbformat": 4,
 "nbformat_minor": 2
}
