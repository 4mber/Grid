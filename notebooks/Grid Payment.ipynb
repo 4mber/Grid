{
 "cells": [
  {
   "cell_type": "code",
   "execution_count": 1,
   "metadata": {},
   "outputs": [
    {
     "name": "stderr",
     "output_type": "stream",
     "text": [
      "Using TensorFlow backend.\n"
     ]
    },
    {
     "name": "stdout",
     "output_type": "stream",
     "text": [
      "making request to https://www.coinbase.com/oauth/authorize?client_id=61638403d5bee9d1479b81788e5c81956d6c93af8dd078ef7d012716409bead5&redirect_uri=https%3A%2F%2Fopengrid.ai%2Fcallback&response_type=code&scope=wallet%3Atransactions%3Asend%2Cwallet%3Aaccounts%3Aread&state=022da22b-6915-4122-870d-86e86442371a&account_currency=ETH&meta%5Bsend_limit_amount%5D=1&meta%5Bsend_limit_currency%5D=USD&meta%5Bsend_limit_period%5D=day\n",
      "got a message {\"accessToken\":\"af3442cf3bde5881380b345032acee1c0ec7e72ae43d1644807c0d411fa63e23\",\"refreshToken\":\"901ddf6b73cd21e3fcbb94856e59a1e78390e5bbd1c58c93977b12720d257158\"}\n"
     ]
    }
   ],
   "source": [
    "import numpy as np\n",
    "import keras, grid\n",
    "from keras.models import Sequential\n",
    "from keras.layers.core import Dense, Dropout, Activation\n",
    "from keras.optimizers import SGD\n",
    "from grid.clients.keras import KerasClient\n",
    "import grid.lib.coinbase_helper as helper\n",
    "import grid.grid_payment.grid_payment as grid_payment\n",
    "\n",
    "#g = KerasClient()\n",
    "gp = grid_payment.GridPayment()\n",
    "\n",
    "tokens = gp.authorize()\n",
    "\n",
    "#gp.send_ether(access_token, refresh_token, email, amount)"
   ]
  },
  {
   "cell_type": "code",
   "execution_count": 2,
   "metadata": {},
   "outputs": [
    {
     "data": {
      "text/plain": [
       "{'Strings': ['QmNxbPtZu1GkXcLE5hzvYkRrcf1kRvxX8cTEPErqAkBwbx']}"
      ]
     },
     "execution_count": 2,
     "metadata": {},
     "output_type": "execute_result"
    }
   ],
   "source": [
    "# do some training\n",
    "om_nodes = g.api.pubsub_peers('openmined')\n",
    "om_nodes"
   ]
  },
  {
   "cell_type": "code",
   "execution_count": 6,
   "metadata": {},
   "outputs": [
    {
     "name": "stdout",
     "output_type": "stream",
     "text": [
      "\n",
      "\u001b[34mUPDATE: \u001b[0mConnecting to IPFS... this can take a few seconds...\n",
      "\n",
      "\u001b[32mSUCCESS: \u001b[0mConnected!!!\n",
      "SUBSCRIBING TO openmined:list_workers\n",
      "\n",
      "\u001b[34mUPDATE: \u001b[0mQuerying known workers...\n",
      "\tWORKER: /p2p-circuit/ipfs/Qmaosc64H6Y29VFCFYJzJXCX9AuRp7RCsekLmajHNVEARD...\u001b[32mSUCCESS!!!\u001b[0m\n",
      "\tWORKER: /p2p-circuit/ipfs/QmQabt3SWuDvjse9z7GAcH2BGQv4wH8bumkd4x5oXN2obX...\u001b[31mFAIL!!!\u001b[0m\n",
      "SUBSCRIBING TO openmined:list_workers:QmcNmXWvYSM1JVi4DZy3FVLAxApXbadTw4GHzrDcL2rjE4\n",
      "Failed to reconnect in the opposite direciton to:/p2p-circuit/ipfs/QmcNmXWvYSM1JVi4DZy3FVLAxApXbadTw4GHzrDcL2rjE4\n",
      "\n",
      "\u001b[34mUPDATE: \u001b[0mSearching for IPFS nodes - 31 found overall - 2 are OpenMined workers          \n",
      "\n",
      "\u001b[32mSUCCESS: \u001b[0mFound 2 OpenMined nodes!!!\n",
      "\n",
      "PREFERRED NODE:QmNxbPtZu1GkXcLE5hzvYkRrcf1kRvxX8cTEPErqAkBwbx\n",
      "SUBSCRIBING TO openmined_train_QmWdCDqjUshZoBKt9yr6gku8ucwB4C4V2xHJCVmHDngy6r\n",
      "Worker:kBwbx - Epoch 0 of 20 - Valid Loss: 0.810121\n",
      "Worker:kBwbx - Epoch 1 of 20 - Valid Loss: 0.793633\n",
      "Worker:kBwbx - Epoch 2 of 20 - Valid Loss: 0.782048\n",
      "Worker:kBwbx - Epoch 3 of 20 - Valid Loss: 0.774540\n",
      "Worker:kBwbx - Epoch 4 of 20 - Valid Loss: 0.765676\n",
      "Worker:kBwbx - Epoch 5 of 20 - Valid Loss: 0.760928\n",
      "Worker:kBwbx - Epoch 6 of 20 - Valid Loss: 0.759422\n",
      "Worker:kBwbx - Epoch 7 of 20 - Valid Loss: 0.756018\n",
      "Worker:kBwbx - Epoch 8 of 20 - Valid Loss: 0.752456\n",
      "Worker:kBwbx - Epoch 9 of 20 - Valid Loss: 0.750498\n",
      "Worker:kBwbx - Epoch 10 of 20 - Valid Loss: 0.747398\n",
      "Worker:kBwbx - Epoch 11 of 20 - Valid Loss: 0.744500\n",
      "Worker:kBwbx - Epoch 12 of 20 - Valid Loss: 0.741979\n",
      "Worker:kBwbx - Epoch 13 of 20 - Valid Loss: 0.738086\n",
      "Worker:kBwbx - Epoch 14 of 20 - Valid Loss: 0.737675\n",
      "Worker:kBwbx - Epoch 15 of 20 - Valid Loss: 0.735178\n",
      "Worker:kBwbx - Epoch 16 of 20 - Valid Loss: 0.733180\n",
      "Worker:kBwbx - Epoch 17 of 20 - Valid Loss: 0.731129\n",
      "Worker:kBwbx - Epoch 18 of 20 - Valid Loss: 0.729504\n",
      "Worker:kBwbx - Epoch 19 of 20 - Valid Loss: 0.727120\n",
      "\n",
      "\u001b[34mUPDATE: \u001b[0mConnecting to IPFS... this can take a few seconds...\n",
      "\n",
      "\u001b[32mSUCCESS: \u001b[0mConnected!!!\n",
      "\n",
      "\u001b[34mUPDATE: \u001b[0mConnecting to IPFS... this can take a few seconds...\n",
      "\n",
      "\u001b[32mSUCCESS: \u001b[0mConnected!!!\n"
     ]
    }
   ],
   "source": [
    "g = KerasClient()\n",
    "input = np.array([[0,0],[0,1],[1,0],[1,1]])\n",
    "target = np.array([[0],[1],[1],[0]])\n",
    "\n",
    "model = Sequential()\n",
    "model.add(Dense(8, input_dim=2))\n",
    "model.add(Activation('tanh'))\n",
    "model.add(Dense(1))\n",
    "model.add(Activation('sigmoid'))\n",
    "\n",
    "sgd = SGD(lr=0.1)\n",
    "model.compile(loss='binary_crossentropy', optimizer=sgd)\n",
    "    \n",
    "model, train_spec = g.fit(model,input,target,epochs=20,log_interval=100,preferred_node='QmNxbPtZu1GkXcLE5hzvYkRrcf1kRvxX8cTEPErqAkBwbx')"
   ]
  },
  {
   "cell_type": "code",
   "execution_count": 2,
   "metadata": {},
   "outputs": [
    {
     "name": "stdout",
     "output_type": "stream",
     "text": [
      "200\n"
     ]
    },
    {
     "data": {
      "text/plain": [
       "200"
      ]
     },
     "execution_count": 2,
     "metadata": {},
     "output_type": "execute_result"
    }
   ],
   "source": [
    "import grid.grid_payment.grid_payment as grid_payment\n",
    "\n",
    "#g = KerasClient()\n",
    "gp = grid_payment.GridPayment()\n",
    "gp.send_ether('justinpatriquin@gmail.com', 0.000001)"
   ]
  },
  {
   "cell_type": "code",
   "execution_count": 2,
   "metadata": {},
   "outputs": [
    {
     "name": "stdout",
     "output_type": "stream",
     "text": [
      "connected my dude <websockets.client.WebSocketClientProtocol object at 0x1051496a0>\n"
     ]
    }
   ],
   "source": [
    "import websockets\n",
    "import asyncio\n",
    "\n",
    "async def connect ():\n",
    "    async with websockets.connect('wss://opengrid.ai') as ws:\n",
    "        print(f'connected my dude {ws}')\n",
    "        ws.\n",
    "        \n",
    "loop = asyncio.get_event_loop()\n",
    "loop.run_until_complete(connect())"
   ]
  },
  {
   "cell_type": "code",
   "execution_count": null,
   "metadata": {},
   "outputs": [],
   "source": []
  }
 ],
 "metadata": {
  "kernelspec": {
   "display_name": "Python 3",
   "language": "python",
   "name": "python3"
  },
  "language_info": {
   "codemirror_mode": {
    "name": "ipython",
    "version": 3
   },
   "file_extension": ".py",
   "mimetype": "text/x-python",
   "name": "python",
   "nbconvert_exporter": "python",
   "pygments_lexer": "ipython3",
   "version": "3.6.3"
  }
 },
 "nbformat": 4,
 "nbformat_minor": 2
}
